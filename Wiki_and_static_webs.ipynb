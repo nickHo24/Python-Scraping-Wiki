{
 "cells": [
  {
   "cell_type": "code",
   "execution_count": null,
   "metadata": {},
   "outputs": [],
   "source": [
    "import pandas as pd\n",
    "import ssl\n",
    "ssl._create_default_https_context = ssl._create_unverified_context # Avoid verification error from certain websites"
   ]
  },
  {
   "cell_type": "markdown",
   "metadata": {},
   "source": [
    "### Highest grossing films (1st website)"
   ]
  },
  {
   "cell_type": "code",
   "execution_count": null,
   "metadata": {},
   "outputs": [],
   "source": [
    "table1 = pd.read_html('https://en.wikipedia.org/wiki/List_of_highest-grossing_films')\n",
    "table1[2]"
   ]
  },
  {
   "cell_type": "markdown",
   "metadata": {},
   "source": [
    "### Please scrape the table \"Number of Olympic Games by country\" in the 2nd website, assign it to \"table2\" and print it."
   ]
  },
  {
   "cell_type": "code",
   "execution_count": null,
   "metadata": {},
   "outputs": [],
   "source": []
  },
  {
   "cell_type": "markdown",
   "metadata": {},
   "source": [
    "### Tallest Buildings (3rd website)"
   ]
  },
  {
   "cell_type": "code",
   "execution_count": null,
   "metadata": {},
   "outputs": [],
   "source": [
    "table3_list = pd.read_html('https://en.wikipedia.org/wiki/List_of_tallest_buildings_and_structures')\n",
    "table3 = pd.DataFrame(table3_list[10])\n",
    "table3"
   ]
  },
  {
   "cell_type": "code",
   "execution_count": null,
   "metadata": {},
   "outputs": [],
   "source": [
    "# Promote the first row to header\n",
    "table3.columns = table3.iloc[0]\n",
    "table3 = table3[1:]\n",
    "\n",
    "# Reset index\n",
    "table3.reset_index(drop=True, inplace=True)\n",
    "\n",
    "# Display the DataFrame\n",
    "table3"
   ]
  },
  {
   "cell_type": "markdown",
   "metadata": {},
   "source": [
    "### Vietnam International Debt Statistics (4th website)"
   ]
  },
  {
   "cell_type": "code",
   "execution_count": null,
   "metadata": {},
   "outputs": [],
   "source": [
    "import requests\n",
    "url = 'https://datatopics.worldbank.org/debt/ids/countryanalytical/VNM'\n",
    "# Get html first with get function from requests lib \n",
    "html = requests.get(url).content\n",
    "\n",
    "# Pass html into read_html() function\n",
    "table4_list = pd.read_html(html)\n",
    "\n",
    "# Get the last table available on the page\n",
    "table4_list[-1]"
   ]
  },
  {
   "cell_type": "code",
   "execution_count": null,
   "metadata": {},
   "outputs": [],
   "source": [
    "# Create a DataFrame\n",
    "table4 = pd.DataFrame(table4_list[-1])\n",
    "\n",
    "# Promote the correct row to header\n",
    "table4.columns = table4.iloc[1]\n",
    "table4 = table4[2:]\n",
    "\n",
    "# Reset index\n",
    "table4.reset_index(drop=True, inplace=True)\n",
    "\n",
    "# Print the DataFrame\n",
    "table4"
   ]
  }
 ],
 "metadata": {
  "kernelspec": {
   "display_name": "Python 3",
   "language": "python",
   "name": "python3"
  },
  "language_info": {
   "codemirror_mode": {
    "name": "ipython",
    "version": 3
   },
   "file_extension": ".py",
   "mimetype": "text/x-python",
   "name": "python",
   "nbconvert_exporter": "python",
   "pygments_lexer": "ipython3",
   "version": "3.11.3"
  }
 },
 "nbformat": 4,
 "nbformat_minor": 2
}
